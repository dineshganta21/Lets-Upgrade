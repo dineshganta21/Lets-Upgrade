def eliminateVowles(word:str)->str:
  vowels=['A','E','I','O','U','a','e','i','o','u']
  res=[]
  for i in range(0,len(word)):
    if word[i] not in vowels:
      res.append(word[i])
  final=''.join(res)
  return final

#ex
word="Lets-Upgrade"
a=eliminateVowles(word)
print(a)
