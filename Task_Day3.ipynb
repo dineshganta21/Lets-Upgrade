{
  "nbformat": 4,
  "nbformat_minor": 0,
  "metadata": {
    "colab": {
      "provenance": []
    },
    "kernelspec": {
      "name": "python3",
      "display_name": "Python 3"
    },
    "language_info": {
      "name": "python"
    }
  },
  "cells": [
    {
      "cell_type": "markdown",
      "source": [
        "# ***Task Day 3***"
      ],
      "metadata": {
        "id": "4P-l-AOQB39l"
      }
    },
    {
      "cell_type": "code",
      "execution_count": 1,
      "metadata": {
        "colab": {
          "base_uri": "https://localhost:8080/"
        },
        "id": "yVeodnpvBxzr",
        "outputId": "1a8369cd-fcad-4e11-8f6f-586604a9b885"
      },
      "outputs": [
        {
          "output_type": "stream",
          "name": "stdout",
          "text": [
            "Lts-pgrd\n"
          ]
        }
      ],
      "source": [
        "def eliminateVowles(word:str)->str:\n",
        "  vowels=['A','E','I','O','U','a','e','i','o','u']\n",
        "  res=[]\n",
        "  for i in range(0,len(word)):\n",
        "    if word[i] not in vowels:\n",
        "      res.append(word[i])\n",
        "  final=''.join(res)\n",
        "  return final\n",
        "\n",
        "#ex\n",
        "word=\"Lets-Upgrade\"\n",
        "a=eliminateVowles(word)\n",
        "print(a)\n",
        ""
      ]
    },
    {
      "cell_type": "markdown",
      "source": [],
      "metadata": {
        "id": "1KvHkNWzB2x5"
      }
    }
  ]
}